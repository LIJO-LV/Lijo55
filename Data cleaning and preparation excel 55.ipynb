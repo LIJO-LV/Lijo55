{
 "cells": [
  {
   "cell_type": "code",
   "execution_count": 1,
   "id": "5dbfb464-9fc4-46a8-b493-623a3529c528",
   "metadata": {},
   "outputs": [
    {
     "name": "stdout",
     "output_type": "stream",
     "text": [
      "Original data:\n",
      "\n",
      "       Name  English  Tamil  Maths  Science  Social  Total\n",
      "0    Suresh     78.0     99     87       98      87    449\n",
      "1    Suresh     99.0     35     44       65      76    319\n",
      "2    Ramesh      NaN     43     34       56      77    210\n",
      "3      Anil     78.0     99     87       98      87    449\n",
      "4      Suni     99.0     35     44       65      76    319\n",
      "5    Rajesh      NaN     43     34       56      77    210\n",
      "6     Yuvan     78.0     99     87       98      87    449\n",
      "7    Rajesh     99.0     35     44       65      76    319\n",
      "8    Bhavan      NaN     43     34       56      77    210\n",
      "9   Yuvaraj     78.0     99     87       98      87    449\n",
      "10    Sunil     99.0     35     44       65      76    319\n",
      "11   Ramesh      NaN     43     34       56      77    210\n",
      "12   Murali      NaN     43     34       56      77    210\n",
      "13     Lijo     78.0     99     87       98      87    449\n",
      "14     Mani     99.0     35     44       65      76    319\n",
      "15    Yuvan      NaN     43     34       56      77    210\n",
      "16    Johan     78.0     99     87       98      87    449\n",
      "17   Rajesh     99.0     35     44       65      76    319\n",
      "18   Ramesh     99.0     35     44       65      76    319\n"
     ]
    }
   ],
   "source": [
    "import pandas as pd\n",
    "pd.set_option('display.max_columns',10)\n",
    "print(\"Original data:\\n\")\n",
    "df=pd.read_excel(\"Students performance.xlsx\")\n",
    "print(df)"
   ]
  },
  {
   "cell_type": "code",
   "execution_count": 3,
   "id": "9ec5e065-9d21-4411-a084-75553d8eded5",
   "metadata": {},
   "outputs": [
    {
     "name": "stdout",
     "output_type": "stream",
     "text": [
      "0      Suresh\n",
      "1      Suresh\n",
      "2      Ramesh\n",
      "3        Anil\n",
      "4        Suni\n",
      "5      Rajesh\n",
      "6       Yuvan\n",
      "7      Rajesh\n",
      "8      Bhavan\n",
      "9     Yuvaraj\n",
      "10      Sunil\n",
      "11     Ramesh\n",
      "12     Murali\n",
      "13       Lijo\n",
      "14       Mani\n",
      "15      Yuvan\n",
      "16      Johan\n",
      "17     Rajesh\n",
      "18     Ramesh\n",
      "Name: Name, dtype: object\n"
     ]
    }
   ],
   "source": [
    "f=df['Name'].str.strip()\n",
    "f.to_excel(\"Students performance 1.xlsx\")\n",
    "print(f)"
   ]
  },
  {
   "cell_type": "code",
   "execution_count": 4,
   "id": "b2f00c8b-026f-440e-a120-40701f6846b6",
   "metadata": {},
   "outputs": [
    {
     "name": "stdout",
     "output_type": "stream",
     "text": [
      "\n",
      " Updated list\n",
      "\n",
      "       Name  English  Tamil  Maths  Science  Social  Total\n",
      "0    Suresh     78.0     99     87       98      87    449\n",
      "1    Suresh     99.0     35     44       65      76    319\n",
      "2    Ramesh     99.0     43     34       56      77    210\n",
      "3      Anil     78.0     99     87       98      87    449\n",
      "4      Suni     99.0     35     44       65      76    319\n",
      "5    Rajesh     99.0     43     34       56      77    210\n",
      "6     Yuvan     78.0     99     87       98      87    449\n",
      "7    Rajesh     99.0     35     44       65      76    319\n",
      "8    Bhavan     99.0     43     34       56      77    210\n",
      "9   Yuvaraj     78.0     99     87       98      87    449\n",
      "10    Sunil     99.0     35     44       65      76    319\n",
      "11   Ramesh     99.0     43     34       56      77    210\n",
      "12   Murali     99.0     43     34       56      77    210\n",
      "13     Lijo     78.0     99     87       98      87    449\n",
      "14     Mani     99.0     35     44       65      76    319\n",
      "15    Yuvan     99.0     43     34       56      77    210\n",
      "16    Johan     78.0     99     87       98      87    449\n",
      "17   Rajesh     99.0     35     44       65      76    319\n",
      "18   Ramesh     99.0     35     44       65      76    319\n"
     ]
    }
   ],
   "source": [
    "k=df.ffill()\n",
    "print(\"\\n Updated list\\n\")\n",
    "k.to_excel(\"Students performance.xlsx\")\n",
    "print(k)"
   ]
  },
  {
   "cell_type": "code",
   "execution_count": 5,
   "id": "e3c91a08-98bd-44cf-bdbc-b87193c681a1",
   "metadata": {},
   "outputs": [
    {
     "name": "stdout",
     "output_type": "stream",
     "text": [
      "\n",
      " Drop One Particular column and its values\n",
      "\n",
      " updated list \n",
      "\n",
      "       Name  English  Maths  Science  Social  Total\n",
      "0    Suresh     78.0     87       98      87    449\n",
      "1    Suresh     99.0     44       65      76    319\n",
      "2    Ramesh     99.0     34       56      77    210\n",
      "3      Anil     78.0     87       98      87    449\n",
      "4      Suni     99.0     44       65      76    319\n",
      "5    Rajesh     99.0     34       56      77    210\n",
      "6     Yuvan     78.0     87       98      87    449\n",
      "7    Rajesh     99.0     44       65      76    319\n",
      "8    Bhavan     99.0     34       56      77    210\n",
      "9   Yuvaraj     78.0     87       98      87    449\n",
      "10    Sunil     99.0     44       65      76    319\n",
      "11   Ramesh     99.0     34       56      77    210\n",
      "12   Murali     99.0     34       56      77    210\n",
      "13     Lijo     78.0     87       98      87    449\n",
      "14     Mani     99.0     44       65      76    319\n",
      "15    Yuvan     99.0     34       56      77    210\n",
      "16    Johan     78.0     87       98      87    449\n",
      "17   Rajesh     99.0     44       65      76    319\n",
      "18   Ramesh     99.0     44       65      76    319\n"
     ]
    }
   ],
   "source": [
    "print(\"\\n Drop One Particular column and its values\")\n",
    "k.drop(['Tamil'],axis=1,inplace=True)\n",
    "print(\"\\n updated list \\n\")\n",
    "k.to_excel(\"Students performance.xlsx\")\n",
    "print(k)"
   ]
  },
  {
   "cell_type": "code",
   "execution_count": 6,
   "id": "c74034c7-046c-4c66-9712-049370e2b7e7",
   "metadata": {},
   "outputs": [
    {
     "name": "stdout",
     "output_type": "stream",
     "text": [
      "Drop Nan values\n",
      "\n",
      "       Name  English  Maths  Science  Social  Total\n",
      "0    Suresh     78.0     87       98      87    449\n",
      "1    Suresh     99.0     44       65      76    319\n",
      "2    Ramesh     99.0     34       56      77    210\n",
      "3      Anil     78.0     87       98      87    449\n",
      "4      Suni     99.0     44       65      76    319\n",
      "5    Rajesh     99.0     34       56      77    210\n",
      "6     Yuvan     78.0     87       98      87    449\n",
      "7    Rajesh     99.0     44       65      76    319\n",
      "8    Bhavan     99.0     34       56      77    210\n",
      "9   Yuvaraj     78.0     87       98      87    449\n",
      "10    Sunil     99.0     44       65      76    319\n",
      "11   Ramesh     99.0     34       56      77    210\n",
      "12   Murali     99.0     34       56      77    210\n",
      "13     Lijo     78.0     87       98      87    449\n",
      "14     Mani     99.0     44       65      76    319\n",
      "15    Yuvan     99.0     34       56      77    210\n",
      "16    Johan     78.0     87       98      87    449\n",
      "17   Rajesh     99.0     44       65      76    319\n",
      "18   Ramesh     99.0     44       65      76    319\n"
     ]
    }
   ],
   "source": [
    "print(\"Drop Nan values\\n\")\n",
    "k.dropna()\n",
    "k.to_excel(\"Students performance.xlsx\")\n",
    "print(k)"
   ]
  },
  {
   "cell_type": "code",
   "execution_count": 7,
   "id": "8d3f5b87-0141-4928-aa4c-8ec3095ba050",
   "metadata": {},
   "outputs": [
    {
     "name": "stdout",
     "output_type": "stream",
     "text": [
      "\n",
      " Replace values\n",
      "\n",
      "Original dataframe\n",
      "    Unnamed: 0     Name  English  Maths  Science  Social  Total\n",
      "0            0   Suresh       78     87       98      87    449\n",
      "1            1   Suresh       99     44       65      76    319\n",
      "2            2   Ramesh       99     34       56      77    210\n",
      "3            3     Anil       78     87       98      87    449\n",
      "4            4     Suni       99     44       65      76    319\n",
      "5            5   Rajesh       99     34       56      77    210\n",
      "6            6    Yuvan       78     87       98      87    449\n",
      "7            7   Rajesh       99     44       65      76    319\n",
      "8            8   Bhavan       99     34       56      77    210\n",
      "9            9  Yuvaraj       78     87       98      87    449\n",
      "10          10    Sunil       99     44       65      76    319\n",
      "11          11   Ramesh       99     34       56      77    210\n",
      "12          12   Murali       99     34       56      77    210\n",
      "13          13     Lijo       78     87       98      87    449\n",
      "14          14     Mani       99     44       65      76    319\n",
      "15          15    Yuvan       99     34       56      77    210\n",
      "16          16    Johan       78     87       98      87    449\n",
      "17          17   Rajesh       99     44       65      76    319\n",
      "18          18   Ramesh       99     44       65      76    319\n",
      "Replaced values\n",
      "\n",
      "    Unnamed: 0     Name  English  Maths  Science  Social  Total\n",
      "0            0   Suresh       78     87       98      87    449\n",
      "1            1   Suresh       56     44       65      76    319\n",
      "2            2   Ramesh       56     34       56      77    210\n",
      "3            3     Anil       78     87       98      87    449\n",
      "4            4     Suni       56     44       65      76    319\n",
      "5            5   Rajesh       56     34       56      77    210\n",
      "6            6    Yuvan       78     87       98      87    449\n",
      "7            7   Rajesh       56     44       65      76    319\n",
      "8            8   Bhavan       56     34       56      77    210\n",
      "9            9  Yuvaraj       78     87       98      87    449\n",
      "10          10    Sunil       56     44       65      76    319\n",
      "11          11   Ramesh       56     34       56      77    210\n",
      "12          12   Murali       56     34       56      77    210\n",
      "13          13     Lijo       78     87       98      87    449\n",
      "14          14     Mani       56     44       65      76    319\n",
      "15          15    Yuvan       56     34       56      77    210\n",
      "16          16    Johan       78     87       98      87    449\n",
      "17          17   Rajesh       56     44       65      76    319\n",
      "18          18   Ramesh       56     44       65      76    319\n"
     ]
    }
   ],
   "source": [
    "print(\"\\n Replace values\\n\")\n",
    "n=pd.read_excel(\"Students performance.xlsx\")\n",
    "print(\"Original dataframe\")\n",
    "print(n)\n",
    "y=n.replace({99:56})\n",
    "print(\"Replaced values\\n\")\n",
    "print(y)"
   ]
  },
  {
   "cell_type": "code",
   "execution_count": 8,
   "id": "b58afdf4-7594-43eb-9d00-785108869246",
   "metadata": {},
   "outputs": [
    {
     "name": "stdout",
     "output_type": "stream",
     "text": [
      "    Unnamed: 0     Name  English  Maths  Science  Social  Total\n",
      "0            0   Suresh       78     87       98      87    449\n",
      "1            1   Suresh       99     44       65      76    319\n",
      "2            2   Ramesh       99     34       56      77    210\n",
      "3            3     Anil       78     87       98      87    449\n",
      "4            4     Suni       99     44       65      76    319\n",
      "5            5   Rajesh       99     34       56      77    210\n",
      "6            6    Yuvan       78     87       98      87    449\n",
      "7            7   Rajesh       99     44       65      76    319\n",
      "8            8   Bhavan       99     34       56      77    210\n",
      "9            9  Yuvaraj       78     87       98      87    449\n",
      "10          10    Sunil       99     44       65      76    319\n",
      "11          11   Ramesh       99     34       56      77    210\n",
      "12          12   Murali       99     34       56      77    210\n",
      "13          13     Lijo       78     87       98      87    449\n",
      "14          14     Mani       99     44       65      76    319\n",
      "15          15    Yuvan       99     34       56      77    210\n",
      "16          16    Johan       78     87       98      87    449\n",
      "17          17   Rajesh       99     44       65      76    319\n",
      "18          18   Ramesh       99     44       65      76    319\n",
      "Extracting using isin() function\n",
      "\n",
      "    Unnamed: 0    Name  English  Maths  Science  Social  Total\n",
      "2            2  Ramesh       99     34       56      77    210\n",
      "5            5  Rajesh       99     34       56      77    210\n",
      "8            8  Bhavan       99     34       56      77    210\n",
      "11          11  Ramesh       99     34       56      77    210\n",
      "12          12  Murali       99     34       56      77    210\n",
      "15          15   Yuvan       99     34       56      77    210\n"
     ]
    }
   ],
   "source": [
    "df=pd.read_excel(\"Students performance.xlsx\")\n",
    "print(df)\n",
    "print(\"Extracting using isin() function\\n\")\n",
    "new=df[\"Total\"].isin([210])\n",
    "print(df[new])"
   ]
  },
  {
   "cell_type": "code",
   "execution_count": null,
   "id": "1c784012-9a14-4162-ab29-72c254a6d649",
   "metadata": {},
   "outputs": [],
   "source": []
  }
 ],
 "metadata": {
  "kernelspec": {
   "display_name": "Python 3 (ipykernel)",
   "language": "python",
   "name": "python3"
  },
  "language_info": {
   "codemirror_mode": {
    "name": "ipython",
    "version": 3
   },
   "file_extension": ".py",
   "mimetype": "text/x-python",
   "name": "python",
   "nbconvert_exporter": "python",
   "pygments_lexer": "ipython3",
   "version": "3.13.0"
  }
 },
 "nbformat": 4,
 "nbformat_minor": 5
}
