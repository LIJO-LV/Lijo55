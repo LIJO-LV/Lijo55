{
 "cells": [
  {
   "cell_type": "code",
   "execution_count": 16,
   "id": "ed08e2a8",
   "metadata": {},
   "outputs": [
    {
     "name": "stdout",
     "output_type": "stream",
     "text": [
      "    S.NO Employee name  Gender labour time  Salary  Bonus\n",
      "0      1           RAM    Male       5 hrs   20000    550\n",
      "1      2        Sudhan    Male       8 hrs   30000    500\n",
      "2      3        Harish  Female       9 hrs  800000    700\n",
      "3      4        Ananya  Female       4 hrs  290000    780\n",
      "4      5        Rajesh    Male       5 hrs   50000    370\n",
      "..   ...           ...     ...         ...     ...    ...\n",
      "85    89         Akash    Male       5 hrs   50000    370\n",
      "86    90         Yuvan    Male       6 hrs  600000   1000\n",
      "87    91           Ram    Male      20 hrs   60000   4000\n",
      "88    92        Suresh    Male      30 hrs  500000  60000\n",
      "89    93       Yuvaraj    Male       4 hrs   50000    400\n",
      "\n",
      "[90 rows x 6 columns]\n"
     ]
    }
   ],
   "source": [
    "import pandas as pd\n",
    "d=pd.read_csv(\"Employers\")\n",
    "print(d)"
   ]
  },
  {
   "cell_type": "code",
   "execution_count": 17,
   "id": "0c56e815",
   "metadata": {},
   "outputs": [
    {
     "name": "stdout",
     "output_type": "stream",
     "text": [
      "Columns Index(['S.NO', 'Employee name', 'Gender', 'labour time', 'Salary', 'Bonus'], dtype='object')\n",
      "(90, 6)\n"
     ]
    }
   ],
   "source": [
    "df=pd.DataFrame(d)\n",
    "print(\"Columns\",df.columns)\n",
    "print(df.shape)"
   ]
  },
  {
   "cell_type": "code",
   "execution_count": 18,
   "id": "76453eb2",
   "metadata": {},
   "outputs": [
    {
     "name": "stdout",
     "output_type": "stream",
     "text": [
      "S.NO 0      1\n",
      "1      2\n",
      "2      3\n",
      "3      4\n",
      "4      5\n",
      "      ..\n",
      "85    89\n",
      "86    90\n",
      "87    91\n",
      "88    92\n",
      "89    93\n",
      "Name: S.NO, Length: 90, dtype: int64\n"
     ]
    }
   ],
   "source": [
    "print(\"S.NO\",df['S.NO'])"
   ]
  },
  {
   "cell_type": "code",
   "execution_count": 19,
   "id": "b9496e23",
   "metadata": {},
   "outputs": [
    {
     "name": "stdout",
     "output_type": "stream",
     "text": [
      "   S.NO Employee name Gender labour time  Salary  Bonus\n",
      "5     6        Suresh   Male       6 hrs  600000   1000\n",
      "6     7        Ramesh   Male      20 hrs   60000   4000\n",
      "7     8      Harish.M   Male      30 hrs  500000  60000\n",
      "8     9        Suresh   Male       4 hrs   50000    400\n",
      "9    10       Harish    Male       5 hrs   20000    550\n"
     ]
    }
   ],
   "source": [
    "print(df[5:10])"
   ]
  },
  {
   "cell_type": "code",
   "execution_count": 20,
   "id": "3cef0547",
   "metadata": {},
   "outputs": [
    {
     "name": "stdout",
     "output_type": "stream",
     "text": [
      "Particular Person detais S.NO                  3\n",
      "Employee name    Harish\n",
      "Gender           Female\n",
      "labour time       9 hrs\n",
      "Salary           800000\n",
      "Bonus               700\n",
      "Name: 2, dtype: object\n"
     ]
    }
   ],
   "source": [
    "print(\"Particular Person detais\",df.loc[2])"
   ]
  },
  {
   "cell_type": "code",
   "execution_count": 21,
   "id": "7ae02dd9",
   "metadata": {},
   "outputs": [
    {
     "name": "stdout",
     "output_type": "stream",
     "text": [
      "    S.NO Employee name Gender labour time  Salary  Bonus\n",
      "6      7        Ramesh   Male      20 hrs   60000   4000\n",
      "15    16         Suraj   Male      20 hrs   60000   4000\n",
      "24    25       Poojith   Male      20 hrs   60000   4000\n",
      "33    35        Suresh   Male      20 hrs   60000   4000\n",
      "42    45           Ram   Male      20 hrs   60000   4000\n",
      "51    54        Harish   Male      20 hrs   60000   4000\n",
      "60    64         Suraj   Male      20 hrs   60000   4000\n",
      "69    73     Hariharan   Male      20 hrs   60000   4000\n",
      "78    82        Suresh   Male      20 hrs   60000   4000\n",
      "87    91           Ram   Male      20 hrs   60000   4000\n"
     ]
    }
   ],
   "source": [
    "print(d.loc[d['Salary']==60000])"
   ]
  },
  {
   "cell_type": "code",
   "execution_count": 22,
   "id": "64a5a335",
   "metadata": {},
   "outputs": [
    {
     "name": "stdout",
     "output_type": "stream",
     "text": [
      "0      2000.0\n",
      "1      3000.0\n",
      "2     80000.0\n",
      "3     29000.0\n",
      "4      5000.0\n",
      "       ...   \n",
      "85     5000.0\n",
      "86    60000.0\n",
      "87     6000.0\n",
      "88    50000.0\n",
      "89     5000.0\n",
      "Name: Salary, Length: 90, dtype: float64\n"
     ]
    }
   ],
   "source": [
    "df=d['Salary']/10\n",
    "print(df)"
   ]
  }
 ],
 "metadata": {
  "kernelspec": {
   "display_name": "Python 3 (ipykernel)",
   "language": "python",
   "name": "python3"
  },
  "language_info": {
   "codemirror_mode": {
    "name": "ipython",
    "version": 3
   },
   "file_extension": ".py",
   "mimetype": "text/x-python",
   "name": "python",
   "nbconvert_exporter": "python",
   "pygments_lexer": "ipython3",
   "version": "3.11.4"
  }
 },
 "nbformat": 4,
 "nbformat_minor": 5
}
