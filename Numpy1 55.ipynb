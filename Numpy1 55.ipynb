{
 "cells": [
  {
   "cell_type": "markdown",
   "id": "db4208ce-965b-43a8-b688-f72277de74ab",
   "metadata": {},
   "source": [
    "# ONE DIMENSIONAL ARRAY"
   ]
  },
  {
   "cell_type": "code",
   "execution_count": 1,
   "id": "877815be-674b-4d55-aca7-b76a3b420c89",
   "metadata": {},
   "outputs": [
    {
     "name": "stdout",
     "output_type": "stream",
     "text": [
      "One dimensional array: [2 3 4]\n"
     ]
    }
   ],
   "source": [
    "import numpy as np;\n",
    "a=np.array([2,3,4])\n",
    "print(\"One dimensional array:\",a)"
   ]
  },
  {
   "cell_type": "markdown",
   "id": "de5fd5a5-8d40-4ad8-add4-65d650d7ad74",
   "metadata": {},
   "source": [
    "## TWO DIMENSIONAL ARRAY"
   ]
  },
  {
   "cell_type": "code",
   "execution_count": 2,
   "id": "5cccdc73-20e4-4973-aa2f-e634c6ff3358",
   "metadata": {},
   "outputs": [
    {
     "name": "stdout",
     "output_type": "stream",
     "text": [
      "Two dimensional array: [[2 1 1]\n",
      " [2 2 3]]\n"
     ]
    }
   ],
   "source": [
    "import numpy as np;\n",
    "b=np.array([[2,1,1],[2,2,3]])\n",
    "print(\"Two dimensional array:\",b)"
   ]
  },
  {
   "cell_type": "markdown",
   "id": "4ec584be-94a5-4c7b-93b2-6aeb1c2173a2",
   "metadata": {},
   "source": [
    "### THREE DIMENSIONAL ARRAY"
   ]
  },
  {
   "cell_type": "code",
   "execution_count": 3,
   "id": "17bb82a6-e839-4a40-8ee2-7cc9f5dc6824",
   "metadata": {},
   "outputs": [
    {
     "name": "stdout",
     "output_type": "stream",
     "text": [
      "Three dimensional array: [[1 1 1]\n",
      " [2 2 3]\n",
      " [4 6 4]]\n"
     ]
    }
   ],
   "source": [
    "import numpy as np;\n",
    "c=np.array([[1,1,1],[2,2,3],[4,6,4]])\n",
    "print(\"Three dimensional array:\",c)"
   ]
  },
  {
   "cell_type": "markdown",
   "id": "424d316d-a946-4218-9b8c-46ebca2b25de",
   "metadata": {},
   "source": [
    "### CREATE ZERO ARRAY"
   ]
  },
  {
   "cell_type": "code",
   "execution_count": 4,
   "id": "9404e3ff-99cd-42e2-941a-d73acc516b9e",
   "metadata": {},
   "outputs": [
    {
     "name": "stdout",
     "output_type": "stream",
     "text": [
      "\n",
      " zero array \n",
      " [[0. 0. 0.]\n",
      " [0. 0. 0.]]\n"
     ]
    }
   ],
   "source": [
    "import numpy as np;\n",
    "print(\"\\n zero array \\n\",np.zeros((2,3)))"
   ]
  },
  {
   "cell_type": "markdown",
   "id": "a07a1ca8-e93c-4297-b229-f38a15d8cd7e",
   "metadata": {},
   "source": [
    "### ARRAY WITH RANDOM VALUES"
   ]
  },
  {
   "cell_type": "code",
   "execution_count": 5,
   "id": "7c80b875-28ca-446e-8e3d-e536d1ab5c0d",
   "metadata": {},
   "outputs": [
    {
     "name": "stdout",
     "output_type": "stream",
     "text": [
      "\n",
      " Random value \n",
      " [[0.48363061 0.99747922]\n",
      " [0.77453668 0.85269942]]\n"
     ]
    }
   ],
   "source": [
    "import numpy as np;\n",
    "print(\"\\n Random value \\n\",np.random.random((2,2)))"
   ]
  },
  {
   "cell_type": "markdown",
   "id": "80016309-0857-49d9-8233-a37e63fcffae",
   "metadata": {},
   "source": [
    "## IN STEP SEQUENCES"
   ]
  },
  {
   "cell_type": "code",
   "execution_count": 6,
   "id": "1c297d1e-612d-49b0-928e-60b41030d4de",
   "metadata": {},
   "outputs": [
    {
     "name": "stdout",
     "output_type": "stream",
     "text": [
      "\n",
      " Sequence values \n",
      " [ 0  1  2  3  4  5  6  7  8  9 10 11 12 13 14 15 16 17 18 19]\n"
     ]
    }
   ],
   "source": [
    "import numpy as np;\n",
    "print(\"\\n Sequence values \\n\",np.arange(0,20,1))"
   ]
  },
  {
   "cell_type": "markdown",
   "id": "3cc86766-1817-4622-a60a-4b4ce69f4fbf",
   "metadata": {},
   "source": [
    "# RESHAPE THE ARRAY"
   ]
  },
  {
   "cell_type": "code",
   "execution_count": 7,
   "id": "1c97a465-f5c8-4d7a-bffe-34c318ef638d",
   "metadata": {},
   "outputs": [
    {
     "name": "stdout",
     "output_type": "stream",
     "text": [
      "Original array:\n",
      " [[2 3 4]\n",
      " [5 4 3]]\n",
      "\n",
      " Reshaped array:\n",
      " [[2 3]\n",
      " [4 5]\n",
      " [4 3]]\n"
     ]
    }
   ],
   "source": [
    "import numpy as np;\n",
    "f=np.array([[2,3,4],[5,4,3]])\n",
    "print(\"Original array:\\n\",f)\n",
    "print(\"\\n Reshaped array:\\n\",f.reshape(3,2))"
   ]
  },
  {
   "cell_type": "markdown",
   "id": "732fe6d1-7750-4305-b486-b9e9612fc085",
   "metadata": {},
   "source": [
    "# FLATTEN THE ARRAY"
   ]
  },
  {
   "cell_type": "code",
   "execution_count": 8,
   "id": "982e1f14-68c2-4624-9d06-b7e048cac1df",
   "metadata": {},
   "outputs": [
    {
     "name": "stdout",
     "output_type": "stream",
     "text": [
      "\n",
      " Original array \n",
      " [[3 2 4]\n",
      " [5 6 7]]\n",
      "\n",
      " Flattened array \n",
      " [3 2 4 5 6 7]\n"
     ]
    }
   ],
   "source": [
    "import numpy as np;\n",
    "b=np.array([[3,2,4],[5,6,7]])\n",
    "print(\"\\n Original array \\n\",b)\n",
    "print(\"\\n Flattened array \\n\",b.flatten())"
   ]
  },
  {
   "cell_type": "markdown",
   "id": "28cd0b7f-4843-4d7c-b1c6-e43204ddb9be",
   "metadata": {},
   "source": [
    "# DIMENSION OF ARRAY"
   ]
  },
  {
   "cell_type": "code",
   "execution_count": 9,
   "id": "cc4f39bb-8f1d-47a7-a776-94cc0de7dafe",
   "metadata": {},
   "outputs": [
    {
     "name": "stdout",
     "output_type": "stream",
     "text": [
      "Dimension of the array is \n",
      " 1\n"
     ]
    }
   ],
   "source": [
    "import numpy as np;\n",
    "b=np.array([2,1,2])\n",
    "print(\"Dimension of the array is \\n\",b.ndim)"
   ]
  },
  {
   "cell_type": "code",
   "execution_count": 10,
   "id": "83229436-7265-4723-8bfa-6221e4a12291",
   "metadata": {},
   "outputs": [
    {
     "name": "stdout",
     "output_type": "stream",
     "text": [
      "Dimension of the array is 2\n"
     ]
    }
   ],
   "source": [
    "import numpy as np;\n",
    "b=np.array([[2,1,1],[2,2,2]])\n",
    "print(\"Dimension of the array is\",b.ndim)"
   ]
  },
  {
   "cell_type": "code",
   "execution_count": 11,
   "id": "c66c646c-db6e-412e-87ca-0de3d074915d",
   "metadata": {},
   "outputs": [
    {
     "name": "stdout",
     "output_type": "stream",
     "text": [
      "Dimension of the array is 3\n"
     ]
    }
   ],
   "source": [
    "import numpy as np;\n",
    "b=np.array([[[2,3,2],[3,4,2]],[[2,3,2],[3,4,2]]])\n",
    "print(\"Dimension of the array is\",b.ndim)"
   ]
  },
  {
   "cell_type": "markdown",
   "id": "1109f6c9-fd97-4e5b-8dbc-974e4ffda19d",
   "metadata": {},
   "source": [
    "## SHAPE OF ARRAY"
   ]
  },
  {
   "cell_type": "code",
   "execution_count": 12,
   "id": "b3eb6e3a-745f-4da3-9ebd-e3381a215cd1",
   "metadata": {},
   "outputs": [
    {
     "name": "stdout",
     "output_type": "stream",
     "text": [
      "Shape of the array is (2, 3)\n"
     ]
    }
   ],
   "source": [
    "import numpy as np;\n",
    "f=np.array([[4,3,2],[2,3,4]])\n",
    "print(\"Shape of the array is\",f.shape)"
   ]
  },
  {
   "cell_type": "markdown",
   "id": "cd995c21-4191-499e-a309-b16fb990e9f6",
   "metadata": {},
   "source": [
    "# DATA TYPE"
   ]
  },
  {
   "cell_type": "code",
   "execution_count": 18,
   "id": "c5659e17-de9c-4386-80d5-16b2576bd3ae",
   "metadata": {},
   "outputs": [
    {
     "name": "stdout",
     "output_type": "stream",
     "text": [
      "Type is int64\n"
     ]
    }
   ],
   "source": [
    "import numpy as np;\n",
    "g=np.array([[4,3,3],[4,5,2]])\n",
    "print(\"Type is\",g.dtype)"
   ]
  },
  {
   "cell_type": "markdown",
   "id": "5ecac73a-7f92-4bd7-afc0-2d513c94fb1f",
   "metadata": {},
   "source": [
    "# LENGTH OF ARRAY"
   ]
  },
  {
   "cell_type": "code",
   "execution_count": 17,
   "id": "7c5d8f9c-4ee7-452b-bcfe-7e8b6467a7eb",
   "metadata": {},
   "outputs": [
    {
     "name": "stdout",
     "output_type": "stream",
     "text": [
      "Maximum length is 2\n"
     ]
    }
   ],
   "source": [
    "import numpy as np;\n",
    "g=np.array([[2,3,4],[5,6,2]])\n",
    "print(\"Maximum length is\",len(g))"
   ]
  },
  {
   "cell_type": "code",
   "execution_count": null,
   "id": "76c649fb-611e-4d66-9827-df12c6a2f89b",
   "metadata": {},
   "outputs": [],
   "source": []
  }
 ],
 "metadata": {
  "kernelspec": {
   "display_name": "Python 3 (ipykernel)",
   "language": "python",
   "name": "python3"
  },
  "language_info": {
   "codemirror_mode": {
    "name": "ipython",
    "version": 3
   },
   "file_extension": ".py",
   "mimetype": "text/x-python",
   "name": "python",
   "nbconvert_exporter": "python",
   "pygments_lexer": "ipython3",
   "version": "3.13.0"
  }
 },
 "nbformat": 4,
 "nbformat_minor": 5
}
