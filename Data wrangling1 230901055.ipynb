{
 "cells": [
  {
   "cell_type": "code",
   "execution_count": 9,
   "id": "321d8aa1",
   "metadata": {},
   "outputs": [
    {
     "name": "stdout",
     "output_type": "stream",
     "text": [
      "  Name age\n",
      "0  Sai  20\n",
      "1  sub  21\n",
      "2  Poo  23\n",
      "  Qualified  Gender\n",
      "0       Yes    Male\n",
      "1        No    Male\n",
      "2       Yes  Female\n",
      "  Name age Qualified  Gender\n",
      "0  Sai  20       Yes    Male\n",
      "1  sub  21        No    Male\n",
      "2  Poo  23       Yes  Female\n"
     ]
    }
   ],
   "source": [
    "import pandas as pd\n",
    "d1={\"Name\":[\"Sai\",\"sub\",\"Poo\"],\"age\":[\"20\",\"21\",\"23\"]}\n",
    "d2={\"Qualified\":[\"Yes\",\"No\",\"Yes\"],\"Gender\":[\"Male\",\"Male\",\"Female\"]}\n",
    "df1=pd.DataFrame(d1)\n",
    "print(df1)\n",
    "df2=pd.DataFrame(d2)                                  #join function\n",
    "print(df2)\n",
    "joined=df1.join(df2)\n",
    "print(joined)"
   ]
  },
  {
   "cell_type": "code",
   "execution_count": 22,
   "id": "8e54bcc1",
   "metadata": {},
   "outputs": [
    {
     "name": "stdout",
     "output_type": "stream",
     "text": [
      "  Qualification  age   Name\n",
      "0           B.E   20    Sai\n",
      "1           M.E   21  rishi\n",
      "2          B.ED   22  thara\n"
     ]
    }
   ],
   "source": [
    "d1={\"Name\":[\"Sai\",\"rishi\",\"thara\"],\"age\":[20,21,22]}\n",
    "d2={\"Qualification\":[\"B.E\",\"M.E\",\"B.ED\"],\"age\":[20,21,22]}\n",
    "df1=pd.DataFrame(d1)\n",
    "df2=pd.DataFrame(d2)\n",
    "newf1=df2.merge(df1,on=\"age\")    \n",
    "print(newf1)"
   ]
  },
  {
   "cell_type": "code",
   "execution_count": 7,
   "id": "b07eb8e1",
   "metadata": {},
   "outputs": [
    {
     "name": "stdout",
     "output_type": "stream",
     "text": [
      "  Team  points  assists  rippounds\n",
      "0    A      90       12         56\n",
      "1    B      56       34         45\n",
      "2    C      75       23         56\n",
      "3    D      85       44         45\n",
      "Reshaped dataframe\n",
      "    Team   variable  value\n",
      "0     A     points     90\n",
      "1     B     points     56\n",
      "2     C     points     75\n",
      "3     D     points     85\n",
      "4     A    assists     12\n",
      "5     B    assists     34\n",
      "6     C    assists     23\n",
      "7     D    assists     44\n",
      "8     A  rippounds     56\n",
      "9     B  rippounds     45\n",
      "10    C  rippounds     56\n",
      "11    D  rippounds     45\n"
     ]
    }
   ],
   "source": [
    "import pandas as pd\n",
    "df=pd.DataFrame({\"Team\":['A','B','C','D'],\"points\":[90,56,75,85],\"assists\":[12,34,23,44],\"rippounds\":[56,45,56,45]})\n",
    "print(df)\n",
    "df1=pd.melt(df,id_vars=\"Team\",value_vars=[\"points\",\"assists\",\"rippounds\"])\n",
    "print(\"Reshaped dataframe\\n\",df1)"
   ]
  }
 ],
 "metadata": {
  "kernelspec": {
   "display_name": "Python 3 (ipykernel)",
   "language": "python",
   "name": "python3"
  },
  "language_info": {
   "codemirror_mode": {
    "name": "ipython",
    "version": 3
   },
   "file_extension": ".py",
   "mimetype": "text/x-python",
   "name": "python",
   "nbconvert_exporter": "python",
   "pygments_lexer": "ipython3",
   "version": "3.11.4"
  }
 },
 "nbformat": 4,
 "nbformat_minor": 5
}
