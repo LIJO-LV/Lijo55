{
 "cells": [
  {
   "cell_type": "code",
   "execution_count": 2,
   "id": "91700675",
   "metadata": {},
   "outputs": [
    {
     "name": "stdout",
     "output_type": "stream",
     "text": [
      "0    L\n",
      "1    I\n",
      "2    J\n",
      "3    O\n",
      "dtype: object\n"
     ]
    }
   ],
   "source": [
    "import pandas as pd\n",
    "import numpy as np\n",
    "arr=np.array(['L','I','J','O'])   #print series of data\n",
    "a=pd.Series(arr)\n",
    "print(a)"
   ]
  },
  {
   "cell_type": "code",
   "execution_count": 4,
   "id": "12e9b70c",
   "metadata": {},
   "outputs": [
    {
     "name": "stdout",
     "output_type": "stream",
     "text": [
      "a    0\n",
      "b    1\n",
      "c    2\n",
      "dtype: int64\n"
     ]
    }
   ],
   "source": [
    "#series of data from dictionary\n",
    "import pandas as pd\n",
    "import numpy as np\n",
    "arr={'a':0,'b':1,'c':2}\n",
    "a=pd.Series(arr)\n",
    "print(a)"
   ]
  },
  {
   "cell_type": "code",
   "execution_count": 5,
   "id": "61f9cccc",
   "metadata": {},
   "outputs": [
    {
     "name": "stdout",
     "output_type": "stream",
     "text": [
      "0    4\n",
      "1    4\n",
      "2    4\n",
      "3    4\n",
      "dtype: int64\n"
     ]
    }
   ],
   "source": [
    "#assign index value\n",
    "import pandas as pd\n",
    "import numpy as np\n",
    "y=pd.Series(4,index=[0,1,2,3])\n",
    "print(y)"
   ]
  },
  {
   "cell_type": "code",
   "execution_count": 15,
   "id": "b516a06a",
   "metadata": {},
   "outputs": [
    {
     "name": "stdout",
     "output_type": "stream",
     "text": [
      "\n",
      " Series: 0    L\n",
      "1    I\n",
      "2    J\n",
      "3    O\n",
      "dtype: object\n",
      "\n",
      " index: RangeIndex(start=0, stop=4, step=1)\n",
      "\n",
      " Values: ['L' 'I' 'J' 'O']\n",
      "\n",
      " shape: (4,)\n",
      " \n",
      " dimension: 1\n"
     ]
    }
   ],
   "source": [
    "import pandas as pd\n",
    "import numpy as np\n",
    "arr=np.array(['L','I','J','O'])\n",
    "a=pd.Series(arr)\n",
    "print(\"\\n Series:\",a)         #print series\n",
    "print(\"\\n index:\",a.index)   #index\n",
    "print(\"\\n Values:\",a.values)  #values\n",
    "print(\"\\n shape:\",a.shape)#shape\n",
    "print(\" \\n dimension:\",a.ndim)  #dimension"
   ]
  }
 ],
 "metadata": {
  "kernelspec": {
   "display_name": "Python 3 (ipykernel)",
   "language": "python",
   "name": "python3"
  },
  "language_info": {
   "codemirror_mode": {
    "name": "ipython",
    "version": 3
   },
   "file_extension": ".py",
   "mimetype": "text/x-python",
   "name": "python",
   "nbconvert_exporter": "python",
   "pygments_lexer": "ipython3",
   "version": "3.11.4"
  }
 },
 "nbformat": 4,
 "nbformat_minor": 5
}
