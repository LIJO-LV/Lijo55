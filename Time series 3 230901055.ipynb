{
 "cells": [
  {
   "cell_type": "code",
   "execution_count": 1,
   "id": "cdb6a831",
   "metadata": {},
   "outputs": [
    {
     "name": "stdout",
     "output_type": "stream",
     "text": [
      "Date Index \n",
      " 2011-01-02    1.116374\n",
      "2011-01-05    0.759640\n",
      "2011-01-07   -0.636719\n",
      "2011-01-08    1.148281\n",
      "2011-01-10    0.180271\n",
      "2011-01-12   -2.184489\n",
      "dtype: float64\n"
     ]
    }
   ],
   "source": [
    "import pandas as pd\n",
    "import numpy as np\n",
    "from datetime import datetime\n",
    "\n",
    "#create a date variable that contains the dates\n",
    "dates = [datetime(2011, 1, 2),\n",
    "datetime(2011, 1, 5),\n",
    "datetime(2011, 1, 7),\n",
    "datetime(2011, 1, 8),\n",
    "datetime(2011, 1, 10),\n",
    "datetime(2011, 1, 12)]\n",
    "\n",
    "#with this date object, create a series\n",
    "ts = pd.Series(np.random.randn(6), index=dates)\n",
    "print(\"Date Index \\n\",ts)"
   ]
  },
  {
   "cell_type": "code",
   "execution_count": 2,
   "id": "bd242530",
   "metadata": {},
   "outputs": [
    {
     "name": "stdout",
     "output_type": "stream",
     "text": [
      "\n",
      "Date Index alone from the series: \n",
      " DatetimeIndex(['2011-01-02', '2011-01-05', '2011-01-07', '2011-01-08',\n",
      "               '2011-01-10', '2011-01-12'],\n",
      "              dtype='datetime64[ns]', freq=None)\n"
     ]
    }
   ],
   "source": [
    "print(\"\\nDate Index alone from the series: \\n\",ts.index)"
   ]
  },
  {
   "cell_type": "code",
   "execution_count": 3,
   "id": "1660f810",
   "metadata": {},
   "outputs": [
    {
     "name": "stdout",
     "output_type": "stream",
     "text": [
      "\n",
      "Second index:\n",
      " 2011-01-07 00:00:00\n"
     ]
    }
   ],
   "source": [
    "stamp=ts.index[2]\n",
    "print(\"\\nSecond index:\\n\", stamp)"
   ]
  },
  {
   "cell_type": "code",
   "execution_count": 4,
   "id": "95b76bc3",
   "metadata": {},
   "outputs": [
    {
     "name": "stdout",
     "output_type": "stream",
     "text": [
      "\n",
      "Daterange up to 1000 days:\n",
      " 2000-01-01   -1.150146\n",
      "2000-01-02    0.082933\n",
      "2000-01-03    0.508366\n",
      "2000-01-04    0.768195\n",
      "2000-01-05   -1.664873\n",
      "                ...   \n",
      "2002-09-22   -0.577354\n",
      "2002-09-23    1.194966\n",
      "2002-09-24    0.656000\n",
      "2002-09-25    0.666836\n",
      "2002-09-26   -0.805865\n",
      "Freq: D, Length: 1000, dtype: float64\n"
     ]
    }
   ],
   "source": [
    "longer_ts=pd.Series(np.random.randn(1000),\n",
    "index=pd.date_range(\"2000-01-01\",periods=1000))\n",
    "print(\"\\nDaterange up to 1000 days:\\n\",longer_ts)"
   ]
  },
  {
   "cell_type": "code",
   "execution_count": 5,
   "id": "3ccd8781",
   "metadata": {},
   "outputs": [
    {
     "name": "stdout",
     "output_type": "stream",
     "text": [
      "\n",
      "Date range-2001 year:\n",
      " 2001-01-01    0.948698\n",
      "2001-01-02   -1.181941\n",
      "2001-01-03   -0.043061\n",
      "2001-01-04    0.292731\n",
      "2001-01-05   -1.702610\n",
      "                ...   \n",
      "2001-12-27   -0.344327\n",
      "2001-12-28    1.050830\n",
      "2001-12-29   -1.512934\n",
      "2001-12-30    2.021855\n",
      "2001-12-31   -1.107449\n",
      "Freq: D, Length: 365, dtype: float64\n"
     ]
    }
   ],
   "source": [
    "print(\"\\nDate range-2001 year:\\n\", longer_ts[\"2001\"])"
   ]
  },
  {
   "cell_type": "code",
   "execution_count": 6,
   "id": "111977f4",
   "metadata": {},
   "outputs": [
    {
     "name": "stdout",
     "output_type": "stream",
     "text": [
      "\n",
      "Date range-05 month 2001 year:\n",
      " 2001-05-01    0.527928\n",
      "2001-05-02   -1.657156\n",
      "2001-05-03    0.159102\n",
      "2001-05-04    1.106056\n",
      "2001-05-05    0.885107\n",
      "2001-05-06    2.510953\n",
      "2001-05-07   -0.024199\n",
      "2001-05-08   -0.082336\n",
      "2001-05-09    1.032811\n",
      "2001-05-10   -1.723730\n",
      "2001-05-11    0.686678\n",
      "2001-05-12   -0.103859\n",
      "2001-05-13    1.311824\n",
      "2001-05-14   -1.820373\n",
      "2001-05-15   -0.932681\n",
      "2001-05-16   -0.952308\n",
      "2001-05-17   -0.891831\n",
      "2001-05-18    1.204299\n",
      "2001-05-19    0.283643\n",
      "2001-05-20   -0.285053\n",
      "2001-05-21   -1.444415\n",
      "2001-05-22   -1.956327\n",
      "2001-05-23    0.450296\n",
      "2001-05-24    0.029887\n",
      "2001-05-25    1.210067\n",
      "2001-05-26    0.363199\n",
      "2001-05-27   -0.918666\n",
      "2001-05-28    0.373211\n",
      "2001-05-29   -0.017450\n",
      "2001-05-30    0.955098\n",
      "2001-05-31   -1.392579\n",
      "Freq: D, dtype: float64\n"
     ]
    }
   ],
   "source": [
    "print(\"\\nDate range-05 month 2001 year:\\n\", longer_ts[\"2001-05\"])"
   ]
  },
  {
   "cell_type": "code",
   "execution_count": 7,
   "id": "b4077cd5",
   "metadata": {},
   "outputs": [
    {
     "name": "stdout",
     "output_type": "stream",
     "text": [
      "\n",
      "Date range-first few dates in 2000 year:\n",
      " 2000-01-01   -1.150146\n",
      "2000-01-02    0.082933\n",
      "2000-01-03    0.508366\n",
      "2000-01-04    0.768195\n",
      "2000-01-05   -1.664873\n",
      "Freq: D, dtype: float64\n"
     ]
    }
   ],
   "source": [
    "print(\"\\nDate range-first few dates in 2000 year:\\n\",longer_ts[\"2000\"].head())"
   ]
  },
  {
   "cell_type": "code",
   "execution_count": 8,
   "id": "ed37dda6",
   "metadata": {},
   "outputs": [
    {
     "name": "stdout",
     "output_type": "stream",
     "text": [
      "\n",
      "Date range-first 15 dates in 02 month 2001 year: 2000-02-01   -0.864348\n",
      "2000-02-02    0.230338\n",
      "2000-02-03    0.441152\n",
      "2000-02-04    1.606776\n",
      "2000-02-05   -1.814976\n",
      "2000-02-06    0.026335\n",
      "2000-02-07   -2.163619\n",
      "2000-02-08    0.422298\n",
      "2000-02-09   -1.369461\n",
      "2000-02-10    0.665745\n",
      "2000-02-11   -0.576167\n",
      "2000-02-12   -1.250742\n",
      "2000-02-13    0.533921\n",
      "2000-02-14   -0.691165\n",
      "2000-02-15    0.524874\n",
      "Freq: D, dtype: float64\n"
     ]
    }
   ],
   "source": [
    "print(\"\\nDate range-first 15 dates in 02 month 2001 year:\",longer_ts[\n",
    "    \"2000-02\"].head(15))"
   ]
  },
  {
   "cell_type": "code",
   "execution_count": 9,
   "id": "2740f84b",
   "metadata": {},
   "outputs": [
    {
     "name": "stdout",
     "output_type": "stream",
     "text": [
      "\n",
      "Date range-rom 26-9-2001:\n",
      " 2000-09-26   -0.691945\n",
      "2000-09-27   -0.659151\n",
      "2000-09-28   -0.117028\n",
      "2000-09-29    0.768921\n",
      "2000-09-30   -0.472077\n",
      "                ...   \n",
      "2002-09-22   -0.577354\n",
      "2002-09-23    1.194966\n",
      "2002-09-24    0.656000\n",
      "2002-09-25    0.666836\n",
      "2002-09-26   -0.805865\n",
      "Freq: D, Length: 731, dtype: float64\n"
     ]
    }
   ],
   "source": [
    "print(\"\\nDate range-rom 26-9-2001:\\n\",longer_ts[datetime(2000,9,26):])"
   ]
  },
  {
   "cell_type": "code",
   "execution_count": 10,
   "id": "f6934381",
   "metadata": {},
   "outputs": [
    {
     "name": "stdout",
     "output_type": "stream",
     "text": [
      "\n",
      "Date range from 26-9-2001 to 25-9-2002: 2001-09-26    0.328013\n",
      "2001-09-27   -0.438011\n",
      "2001-09-28   -0.802190\n",
      "2001-09-29    0.144209\n",
      "2001-09-30   -0.842202\n",
      "                ...   \n",
      "2002-09-21   -0.762424\n",
      "2002-09-22   -0.577354\n",
      "2002-09-23    1.194966\n",
      "2002-09-24    0.656000\n",
      "2002-09-25    0.666836\n",
      "Freq: D, Length: 365, dtype: float64\n"
     ]
    }
   ],
   "source": [
    "print(\"\\nDate range from 26-9-2001 to 25-9-2002:\",longer_ts[datetime(2001,9,26):datetime(2002,9,25)])"
   ]
  }
 ],
 "metadata": {
  "kernelspec": {
   "display_name": "Python 3 (ipykernel)",
   "language": "python",
   "name": "python3"
  },
  "language_info": {
   "codemirror_mode": {
    "name": "ipython",
    "version": 3
   },
   "file_extension": ".py",
   "mimetype": "text/x-python",
   "name": "python",
   "nbconvert_exporter": "python",
   "pygments_lexer": "ipython3",
   "version": "3.11.4"
  }
 },
 "nbformat": 4,
 "nbformat_minor": 5
}
