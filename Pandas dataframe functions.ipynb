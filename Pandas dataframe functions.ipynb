{
 "cells": [
  {
   "cell_type": "code",
   "execution_count": 15,
   "id": "fdad848c",
   "metadata": {},
   "outputs": [
    {
     "name": "stdout",
     "output_type": "stream",
     "text": [
      "\n",
      " Original dataframe \n",
      "    S  R\n",
      "0  3  9\n",
      "1  3  9\n",
      "2  3  9\n",
      "3  3  9\n",
      "\n",
      " square root:\n",
      "           S    R\n",
      "0  1.732051  3.0\n",
      "1  1.732051  3.0\n",
      "2  1.732051  3.0\n",
      "3  1.732051  3.0\n",
      "\n",
      " Sum of each column:\n",
      " S    12\n",
      "R    36\n",
      "dtype: int64\n",
      "\n",
      " Sum of each rows:\n",
      " 0    12\n",
      "1    12\n",
      "2    12\n",
      "3    12\n",
      "dtype: int64\n"
     ]
    }
   ],
   "source": [
    "import pandas as pd;\n",
    "import numpy as np;\n",
    "info=pd.DataFrame([[3,9]]*4,columns=['S','R'])\n",
    "print(\"\\n Original dataframe \\n\",info)\n",
    "print(\"\\n square root:\\n\",info.apply(np.sqrt))\n",
    "print(\"\\n Sum of each column:\\n\",info.apply(np.sum,axis=0))\n",
    "print(\"\\n Sum of each rows:\\n\",info.apply(np.sum,axis=1))"
   ]
  },
  {
   "cell_type": "code",
   "execution_count": 19,
   "id": "927ad302",
   "metadata": {},
   "outputs": [
    {
     "name": "stdout",
     "output_type": "stream",
     "text": [
      "   X  Y  Z\n",
      "0  2  4  6\n",
      "1  1  3  5\n",
      "2  5  8  7\n",
      "     X  Y  Z\n",
      "min  1  3  5\n",
      "max  5  8  7\n"
     ]
    }
   ],
   "source": [
    "import pandas as pd;\n",
    "import numpy as np;\n",
    "info=pd.DataFrame([[2,4,6],[1,3,5],[5,8,7]],columns=['X','Y','Z'])\n",
    "print(info)\n",
    "print(info.agg(['min','max']))\n"
   ]
  },
  {
   "cell_type": "code",
   "execution_count": 11,
   "id": "aa0c9606",
   "metadata": {},
   "outputs": [
    {
     "name": "stdout",
     "output_type": "stream",
     "text": [
      "       col3      col4\n",
      "3 -0.287900 -0.288943\n",
      "2 -0.700878 -0.101028\n",
      "0 -0.209497  0.969520\n",
      "4  0.761997 -0.010024\n",
      "1  0.096022 -0.168784\n",
      "       col3      col4\n",
      "0 -0.209497  0.969520\n",
      "1  0.096022 -0.168784\n",
      "2 -0.700878 -0.101028\n",
      "3 -0.287900 -0.288943\n",
      "4  0.761997 -0.010024\n",
      "       col3      col4\n",
      "2 -0.700878 -0.101028\n",
      "3 -0.287900 -0.288943\n",
      "0 -0.209497  0.969520\n",
      "1  0.096022 -0.168784\n",
      "4  0.761997 -0.010024\n"
     ]
    }
   ],
   "source": [
    "import pandas as pd\n",
    "import numpy as np\n",
    "info=pd.DataFrame(np.random.randn(5,2),index=[3,2,0,4,1],columns=['col3','col4'])\n",
    "print(info)\n",
    "info2=info.sort_index()\n",
    "print(info2)\n",
    "info3=info.sort_values(by='col3')\n",
    "print(info3)                  \n",
    "                  "
   ]
  },
  {
   "cell_type": "code",
   "execution_count": 1,
   "id": "4295c80b",
   "metadata": {},
   "outputs": [
    {
     "name": "stdout",
     "output_type": "stream",
     "text": [
      "    EmpName  ID\n",
      "Poo     Sai  88\n",
      "70      Sai  88\n",
      "Adding new column :\n",
      "     EmpName  ID\n",
      "Poo     Sai  88\n",
      "70      Sai  88\n",
      "Adding new column \n",
      "     EmpName  ID   Sex\n",
      "Poo     Sai  88  Male\n",
      "70      Sai  88  Male\n"
     ]
    }
   ],
   "source": [
    "import numpy as np\n",
    "import pandas as pd                  #4\n",
    "d2=pd.DataFrame([['Sai',88]],['Poo',70],columns=['EmpName','ID'])\n",
    "print(d2)\n",
    "A=d2.assign(Age=[20,18])\n",
    "print(\"Adding new column :\\n\",d2)\n",
    "d2['Sex']=['Male','Male']\n",
    "print(\"Adding new column \\n\",d2)"
   ]
  },
  {
   "cell_type": "code",
   "execution_count": 6,
   "id": "8d204a14",
   "metadata": {},
   "outputs": [
    {
     "name": "stdout",
     "output_type": "stream",
     "text": [
      "   id  Name   Sub\n",
      "0   1   Sai  sub1\n",
      "1   2   Poo  sub2\n",
      "2   3  Saba  sub3\n",
      "3   4  Yuvi  sub4\n",
      "   id    Name   Sub\n",
      "0   1  Sanjay  Sub1\n",
      "1   2   Saran  Sub2\n",
      "2   3    Suna  Sub3\n",
      "3   4    Suba  Sub5\n",
      "   id Name_x Sub_x  Name_y Sub_y\n",
      "0   1    Sai  sub1  Sanjay  Sub1\n",
      "1   2    Poo  sub2   Saran  Sub2\n",
      "2   3   Saba  sub3    Suna  Sub3\n",
      "3   4   Yuvi  sub4    Suba  Sub5\n"
     ]
    }
   ],
   "source": [
    "import pandas as pd\n",
    "import numpy as np\n",
    "left=pd.DataFrame({'id':[1,2,3,4],'Name':['Sai','Poo','Saba','Yuvi'],'Sub':['sub1','sub2','sub3','sub4']})\n",
    "right=pd.DataFrame({'id':[1,2,3,4],'Name':['Sanjay','Saran','Suna','Suba'],'Sub':['Sub1','Sub2','Sub3','Sub5']})\n",
    "print(left)\n",
    "print(right)\n",
    "print(pd.merge(left,right,on='id'))"
   ]
  }
 ],
 "metadata": {
  "kernelspec": {
   "display_name": "Python 3 (ipykernel)",
   "language": "python",
   "name": "python3"
  },
  "language_info": {
   "codemirror_mode": {
    "name": "ipython",
    "version": 3
   },
   "file_extension": ".py",
   "mimetype": "text/x-python",
   "name": "python",
   "nbconvert_exporter": "python",
   "pygments_lexer": "ipython3",
   "version": "3.11.4"
  }
 },
 "nbformat": 4,
 "nbformat_minor": 5
}
