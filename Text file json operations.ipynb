{
 "cells": [
  {
   "cell_type": "code",
   "execution_count": 18,
   "id": "f425204c-49e0-4cdb-9e0c-121cd4f75826",
   "metadata": {},
   "outputs": [],
   "source": [
    "f=open(\"Document.txt\",\"w\")"
   ]
  },
  {
   "cell_type": "code",
   "execution_count": 19,
   "id": "af50c1f0-6e4b-411d-ac05-07bd34278a41",
   "metadata": {},
   "outputs": [],
   "source": [
    "f.write(\"Wake up early\")\n",
    "f.write(\"Read daily\")\n",
    "f.close()"
   ]
  },
  {
   "cell_type": "code",
   "execution_count": 20,
   "id": "611cc334-977c-4f69-8e4c-e9e055faec8a",
   "metadata": {},
   "outputs": [
    {
     "name": "stdout",
     "output_type": "stream",
     "text": [
      "Wake up earlyRead daily\n"
     ]
    }
   ],
   "source": [
    "a=open(\"Document.txt\",\"r\")\n",
    "print(a.readline())                   #read mode\n",
    "a.close()"
   ]
  },
  {
   "cell_type": "code",
   "execution_count": 21,
   "id": "5cba02e3-e298-43f9-a869-c73f9d8d653d",
   "metadata": {},
   "outputs": [
    {
     "name": "stdout",
     "output_type": "stream",
     "text": [
      "Wake up earlyRead daily\n"
     ]
    }
   ],
   "source": [
    "a=open(\"Document.txt\",\"r\")\n",
    "print(a.readline())                   #read mode\n",
    "a.close()"
   ]
  },
  {
   "cell_type": "code",
   "execution_count": 22,
   "id": "dada5bb0-588d-4621-a32c-cb6ec9a6141c",
   "metadata": {},
   "outputs": [],
   "source": [
    "b=open(\"Document.txt\",\"a\")         #append mode\n",
    "b.write(\"\\n Read daily\\n\")\n",
    "b.close()"
   ]
  },
  {
   "cell_type": "code",
   "execution_count": 23,
   "id": "a232105a-7bf6-44b1-a1fe-42bdd43841d7",
   "metadata": {},
   "outputs": [
    {
     "name": "stdout",
     "output_type": "stream",
     "text": [
      "Wake up earlyRead daily\n",
      " Read daily\n",
      "\n"
     ]
    }
   ],
   "source": [
    "c=open(\"Document.txt\",\"r\")\n",
    "print(c.read())"
   ]
  },
  {
   "cell_type": "code",
   "execution_count": 24,
   "id": "3d23cf51-6e04-4d4a-890a-88151ab37929",
   "metadata": {},
   "outputs": [
    {
     "name": "stdout",
     "output_type": "stream",
     "text": [
      "{'name': 'Sundar', 'age': 25, 'city': 'Mumbai'}\n",
      "Mumbai\n"
     ]
    }
   ],
   "source": [
    "import json\n",
    "x='{\"name\":\"Sundar\",\"age\":25,\"city\":\"Mumbai\"}'\n",
    "y=json.loads(x)\n",
    "print(y)\n",
    "print(y[\"city\"])"
   ]
  },
  {
   "cell_type": "code",
   "execution_count": 25,
   "id": "0983b5f6-a412-4d34-915d-8e7e8a67f10c",
   "metadata": {},
   "outputs": [
    {
     "name": "stdout",
     "output_type": "stream",
     "text": [
      "{\"name\": \"Sundar\", \"age\": 25, \"city\": \"Mumbai\"}\n"
     ]
    }
   ],
   "source": [
    "import json\n",
    "x={\"name\":\"Sundar\",\n",
    "\"age\":25,\n",
    "\"city\":\"Mumbai\"}\n",
    "y=json.dumps(x)# prints in a single row\n",
    "print(y)"
   ]
  }
 ],
 "metadata": {
  "kernelspec": {
   "display_name": "Python 3 (ipykernel)",
   "language": "python",
   "name": "python3"
  },
  "language_info": {
   "codemirror_mode": {
    "name": "ipython",
    "version": 3
   },
   "file_extension": ".py",
   "mimetype": "text/x-python",
   "name": "python",
   "nbconvert_exporter": "python",
   "pygments_lexer": "ipython3",
   "version": "3.13.0"
  }
 },
 "nbformat": 4,
 "nbformat_minor": 5
}
