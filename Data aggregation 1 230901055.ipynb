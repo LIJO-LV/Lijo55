{
 "cells": [
  {
   "cell_type": "code",
   "execution_count": 10,
   "id": "7149c2ef",
   "metadata": {},
   "outputs": [
    {
     "name": "stdout",
     "output_type": "stream",
     "text": [
      "Original dataframe\n",
      "          A      B  c  D\n",
      "0      Abi    one  1  4\n",
      "1     Babu    two  1  6\n",
      "2  charles  three  2  2\n",
      "3   Darwin    one  3  1\n",
      "4      Abi    two  3  6\n",
      "5  charles  three  3  0\n",
      "6   Darwin    one  3  0\n"
     ]
    }
   ],
   "source": [
    "import pandas as pd\n",
    "import numpy as np\n",
    "df=pd.DataFrame({'A':['Abi','Babu','charles','Darwin','Abi','charles','Darwin'],\n",
    "                 'B':['one','two','three','one','two','three','one'],\n",
    "                'c':np.random.randint(7,size=7),'D':np.random.randint(7,size=7)})\n",
    "print(\"Original dataframe\\n\" ,df)"
   ]
  },
  {
   "cell_type": "markdown",
   "id": "aafb08ce",
   "metadata": {},
   "source": [
    "## Grouping with one column sum"
   ]
  },
  {
   "cell_type": "code",
   "execution_count": 24,
   "id": "66b46864",
   "metadata": {},
   "outputs": [
    {
     "name": "stdout",
     "output_type": "stream",
     "text": [
      "Original dataframe\n",
      "          A      B  c  D\n",
      "0      Abi    one  1  4\n",
      "1     Babu    two  1  6\n",
      "2  charles  three  2  2\n",
      "3   Darwin    one  3  1\n",
      "4      Abi    two  3  6\n",
      "5  charles  three  3  0\n",
      "6   Darwin    one  3  0\n",
      "Grouped dataframe with one column sum\n",
      "          A      B  c  D\n",
      "0      Abi    one  1  4\n",
      "1     Babu    two  1  6\n",
      "2  charles  three  2  2\n",
      "3   Darwin    one  3  1\n",
      "4      Abi    two  3  6\n",
      "5  charles  three  3  0\n",
      "6   Darwin    one  3  0\n"
     ]
    }
   ],
   "source": [
    "import pandas as pd\n",
    "df1=df.groupby(['A','B'],as_index=False)['c'].sum()\n",
    "print(\"Original dataframe\\n\",df)\n",
    "print(\"Grouped dataframe with one column sum\\n\",df)"
   ]
  },
  {
   "cell_type": "code",
   "execution_count": 26,
   "id": "387b6091",
   "metadata": {},
   "outputs": [
    {
     "name": "stdout",
     "output_type": "stream",
     "text": [
      "Original dataframe\n",
      "          A      B  c  D\n",
      "0      Abi    one  1  4\n",
      "1     Babu    two  1  6\n",
      "2  charles  three  2  2\n",
      "3   Darwin    one  3  1\n",
      "4      Abi    two  3  6\n",
      "5  charles  three  3  0\n",
      "6   Darwin    one  3  0\n",
      "Grouped dataframe with one column sum\n",
      "          A  c\n",
      "0      Abi  4\n",
      "1     Babu  1\n",
      "2   Darwin  6\n",
      "3  charles  5\n"
     ]
    }
   ],
   "source": [
    "import pandas as pd\n",
    "df2=df.groupby(['A'],as_index=False)['c'].sum()\n",
    "print(\"Original dataframe\\n\",df)\n",
    "print(\"Grouped dataframe with one column sum\\n\",df2)"
   ]
  },
  {
   "cell_type": "markdown",
   "id": "0de29567",
   "metadata": {},
   "source": [
    "## Grouping with multiple column sum"
   ]
  },
  {
   "cell_type": "code",
   "execution_count": 37,
   "id": "3aa96f0d",
   "metadata": {},
   "outputs": [
    {
     "name": "stdout",
     "output_type": "stream",
     "text": [
      "Grouped dataframe with multiple column sum\n",
      "          A  c   D\n",
      "0      Abi  4  10\n",
      "1     Babu  1   6\n",
      "2   Darwin  6   1\n",
      "3  charles  5   2\n"
     ]
    }
   ],
   "source": [
    "import pandas as pd\n",
    "df3=df.groupby(['A'],as_index=False)[['c','D']].sum()\n",
    "print(\"Grouped dataframe with multiple column sum\\n\",df3)"
   ]
  },
  {
   "cell_type": "code",
   "execution_count": 38,
   "id": "b0fcd342",
   "metadata": {},
   "outputs": [
    {
     "name": "stdout",
     "output_type": "stream",
     "text": [
      "Grouped dataframe with multiple column sum\n",
      "          A      B  c  D\n",
      "0      Abi    one  1  4\n",
      "1      Abi    two  3  6\n",
      "2     Babu    two  1  6\n",
      "3   Darwin    one  6  1\n",
      "4  charles  three  5  2\n"
     ]
    }
   ],
   "source": [
    "import pandas as pd\n",
    "df4=df.groupby(['A','B'],as_index=False)[['c','D']].sum()\n",
    "print(\"Grouped dataframe with multiple column sum\\n\",df4)"
   ]
  },
  {
   "cell_type": "markdown",
   "id": "0af71861",
   "metadata": {},
   "source": [
    "## Using groupby() with agg()"
   ]
  },
  {
   "cell_type": "code",
   "execution_count": 51,
   "id": "bac42376",
   "metadata": {},
   "outputs": [
    {
     "name": "stdout",
     "output_type": "stream",
     "text": [
      "         Sales      Profit    \n",
      "           sum  min    sum max\n",
      "Category                      \n",
      "A          250  100     35  25\n",
      "B          330  130     45  30\n",
      "C          350  150     35  20\n"
     ]
    }
   ],
   "source": [
    "import pandas as pd\n",
    "df=pd.DataFrame({'Category':['A','B','C','A','B','C'],\n",
    "                             'Sales':[100,200,150,150,130,200],\n",
    "                             'Profit':[10,15,20,25,30,15]})\n",
    "df1 = df.groupby(\"Category\").agg({\"Sales\": ['sum', 'min'],\"Profit\": ['sum', 'max']})\n",
    "print(df1)"
   ]
  }
 ],
 "metadata": {
  "kernelspec": {
   "display_name": "Python 3 (ipykernel)",
   "language": "python",
   "name": "python3"
  },
  "language_info": {
   "codemirror_mode": {
    "name": "ipython",
    "version": 3
   },
   "file_extension": ".py",
   "mimetype": "text/x-python",
   "name": "python",
   "nbconvert_exporter": "python",
   "pygments_lexer": "ipython3",
   "version": "3.11.4"
  }
 },
 "nbformat": 4,
 "nbformat_minor": 5
}
