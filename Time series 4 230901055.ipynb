{
 "cells": [
  {
   "cell_type": "code",
   "execution_count": 2,
   "id": "63b2e5cb-4cf1-469f-9ebc-fe0e416dbafa",
   "metadata": {},
   "outputs": [
    {
     "name": "stdout",
     "output_type": "stream",
     "text": [
      "Date range:\n",
      " DatetimeIndex(['2020-08-15', '2020-08-16', '2020-08-17', '2020-08-18',\n",
      "               '2020-08-19', '2020-08-20', '2020-08-21', '2020-08-22',\n",
      "               '2020-08-23', '2020-08-24', '2020-08-25', '2020-08-26',\n",
      "               '2020-08-27', '2020-08-28', '2020-08-29', '2020-08-30',\n",
      "               '2020-08-31', '2020-09-01'],\n",
      "              dtype='datetime64[ns]', freq='D')\n"
     ]
    }
   ],
   "source": [
    "import pandas as pd\n",
    "import numpy as np\n",
    "from datetime import datetime\n",
    "ran=pd.date_range(\"2020-08-15\",\"2020-09-01\")\n",
    "print(\"Date range:\\n\",ran)"
   ]
  },
  {
   "cell_type": "code",
   "execution_count": 3,
   "id": "07a4c0f9-0933-4fb5-85bb-86faa508c46f",
   "metadata": {},
   "outputs": [
    {
     "name": "stdout",
     "output_type": "stream",
     "text": [
      "\n",
      "Date range with periods and default day frequency:\n",
      " DatetimeIndex(['2020-07-15', '2020-07-16', '2020-07-17', '2020-07-18',\n",
      "               '2020-07-19', '2020-07-20', '2020-07-21', '2020-07-22',\n",
      "               '2020-07-23', '2020-07-24'],\n",
      "              dtype='datetime64[ns]', freq='D')\n"
     ]
    }
   ],
   "source": [
    "ran=pd.date_range(\"2020-07-15\", periods=10)\n",
    "print(\"\\nDate range with periods and default day frequency:\\n\",ran)"
   ]
  },
  {
   "cell_type": "code",
   "execution_count": 9,
   "id": "c589375d-60e6-499a-a214-d15fab43a536",
   "metadata": {},
   "outputs": [
    {
     "name": "stdout",
     "output_type": "stream",
     "text": [
      "\n",
      "Date range with periods and hour frequency:\n",
      " DatetimeIndex(['2020-07-15 00:00:00', '2020-07-15 01:00:00',\n",
      "               '2020-07-15 02:00:00', '2020-07-15 03:00:00',\n",
      "               '2020-07-15 04:00:00', '2020-07-15 05:00:00',\n",
      "               '2020-07-15 06:00:00', '2020-07-15 07:00:00',\n",
      "               '2020-07-15 08:00:00', '2020-07-15 09:00:00'],\n",
      "              dtype='datetime64[ns]', freq='h')\n"
     ]
    }
   ],
   "source": [
    "import pandas as pd\n",
    "ran = pd.date_range(\"2020-07-15\", periods=10, freq='h')\n",
    "print(\"\\nDate range with periods and hour frequency:\\n\", ran)"
   ]
  },
  {
   "cell_type": "code",
   "execution_count": 10,
   "id": "118e3eee-d56d-4fe4-9935-45268eb63ca6",
   "metadata": {},
   "outputs": [
    {
     "name": "stdout",
     "output_type": "stream",
     "text": [
      "\n",
      "Date range with periods and month frequency:\n",
      " PeriodIndex(['2020-10', '2020-11', '2020-12', '2021-01', '2021-02', '2021-03',\n",
      "             '2021-04', '2021-05', '2021-06', '2021-07'],\n",
      "            dtype='period[M]')\n"
     ]
    }
   ],
   "source": [
    "ran=pd.period_range(\"2020-10\", periods=10, freq=\"M\")\n",
    "print(\"\\nDate range with periods and month frequency:\\n\",ran)"
   ]
  },
  {
   "cell_type": "code",
   "execution_count": 11,
   "id": "ca52bbb4-2dad-4a1b-ab9d-746d4c40ddfa",
   "metadata": {},
   "outputs": [
    {
     "name": "stdout",
     "output_type": "stream",
     "text": [
      "\n",
      "Zero day with hour frequency periods:\n",
      " TimedeltaIndex(['0 days 00:00:00', '0 days 01:00:00', '0 days 02:00:00',\n",
      "                '0 days 03:00:00', '0 days 04:00:00', '0 days 05:00:00',\n",
      "                '0 days 06:00:00', '0 days 07:00:00'],\n",
      "               dtype='timedelta64[ns]', freq='h')\n"
     ]
    }
   ],
   "source": [
    "ran=pd.timedelta_range(0, periods=8, freq=\"h\")\n",
    "print(\"\\nZero day with hour frequency periods:\\n\",ran)"
   ]
  }
 ],
 "metadata": {
  "kernelspec": {
   "display_name": "Python 3 (ipykernel)",
   "language": "python",
   "name": "python3"
  },
  "language_info": {
   "codemirror_mode": {
    "name": "ipython",
    "version": 3
   },
   "file_extension": ".py",
   "mimetype": "text/x-python",
   "name": "python",
   "nbconvert_exporter": "python",
   "pygments_lexer": "ipython3",
   "version": "3.13.0"
  }
 },
 "nbformat": 4,
 "nbformat_minor": 5
}
