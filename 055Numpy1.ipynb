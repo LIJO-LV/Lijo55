{
 "cells": [
  {
   "cell_type": "code",
   "execution_count": 1,
   "id": "a24ece94",
   "metadata": {},
   "outputs": [
    {
     "name": "stdout",
     "output_type": "stream",
     "text": [
      "Two dimensional array: [3 5 6]\n"
     ]
    }
   ],
   "source": [
    "import numpy as np;\n",
    "a=np.array([3,5,6])\n",
    "print(\"Two dimensional array:\",a)"
   ]
  },
  {
   "cell_type": "code",
   "execution_count": 2,
   "id": "c29aa7a2",
   "metadata": {},
   "outputs": [
    {
     "name": "stdout",
     "output_type": "stream",
     "text": [
      "Three dimensional array: [[3 4 5]\n",
      " [2 4 5]]\n"
     ]
    }
   ],
   "source": [
    "import numpy as np;\n",
    "a=np.array([[3,4,5],[2,4,5]])\n",
    "print(\"Three dimensional array:\",a)"
   ]
  },
  {
   "cell_type": "code",
   "execution_count": 3,
   "id": "840502ab",
   "metadata": {},
   "outputs": [
    {
     "name": "stdout",
     "output_type": "stream",
     "text": [
      "\n",
      " null array \n",
      " [[0. 0. 0. 0. 0.]\n",
      " [0. 0. 0. 0. 0.]\n",
      " [0. 0. 0. 0. 0.]\n",
      " [0. 0. 0. 0. 0.]]\n"
     ]
    }
   ],
   "source": [
    "import numpy as np;\n",
    "e=np.zeros((4,5))\n",
    "print(\"\\n null array \\n\",e)"
   ]
  },
  {
   "cell_type": "code",
   "execution_count": 5,
   "id": "e43bd995",
   "metadata": {},
   "outputs": [
    {
     "name": "stdout",
     "output_type": "stream",
     "text": [
      "\n",
      " Array with random value \n",
      " [[0.4608406  0.09083434 0.20134835]\n",
      " [0.88420947 0.01079344 0.90822579]]\n"
     ]
    }
   ],
   "source": [
    "import numpy as np;\n",
    "f=np.random.random((2,3))\n",
    "print(\"\\n Array with random value \\n\",f)"
   ]
  },
  {
   "cell_type": "code",
   "execution_count": 9,
   "id": "d6c06dfb",
   "metadata": {},
   "outputs": [
    {
     "name": "stdout",
     "output_type": "stream",
     "text": [
      "\n",
      " sequence value \n",
      " [0 1 2 3 4 5 6 7]\n"
     ]
    }
   ],
   "source": [
    "import numpy as np;\n",
    "f=np.arange(0,8,1)\n",
    "print(\"\\n sequence value \\n\",f)"
   ]
  },
  {
   "cell_type": "code",
   "execution_count": 10,
   "id": "a5b1d8af",
   "metadata": {},
   "outputs": [
    {
     "name": "stdout",
     "output_type": "stream",
     "text": [
      "Original array \n",
      " [[3 2 4]\n",
      " [5 2 1]]\n",
      "New reshaped array [[3 2 4]\n",
      " [5 2 1]]\n"
     ]
    }
   ],
   "source": [
    "import numpy as np;\n",
    "u=np.array([[3,2,4],[5,2,1]])\n",
    "new=u.reshape((2,3))\n",
    "print(\"Original array \\n\",u)\n",
    "print(\"New reshaped array\",new)"
   ]
  },
  {
   "cell_type": "code",
   "execution_count": null,
   "id": "401e8265",
   "metadata": {},
   "outputs": [],
   "source": []
  }
 ],
 "metadata": {
  "kernelspec": {
   "display_name": "Python 3 (ipykernel)",
   "language": "python",
   "name": "python3"
  },
  "language_info": {
   "codemirror_mode": {
    "name": "ipython",
    "version": 3
   },
   "file_extension": ".py",
   "mimetype": "text/x-python",
   "name": "python",
   "nbconvert_exporter": "python",
   "pygments_lexer": "ipython3",
   "version": "3.11.4"
  }
 },
 "nbformat": 4,
 "nbformat_minor": 5
}
