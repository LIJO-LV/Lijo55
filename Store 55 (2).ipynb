{
 "cells": [
  {
   "cell_type": "code",
   "execution_count": 2,
   "id": "77bfbd24",
   "metadata": {},
   "outputs": [
    {
     "name": "stdout",
     "output_type": "stream",
     "text": [
      "       a  b  c\n",
      "One    1  2  3\n",
      "Two    4  5  6\n",
      "Three  7  8  9\n"
     ]
    }
   ],
   "source": [
    "import pandas as pd;\n",
    "df=pd.DataFrame([[1,2,3],[4,5,6],[7,8,9]],index=['One','Two','Three'],columns=['a','b','c'])\n",
    "print(df)"
   ]
  },
  {
   "cell_type": "code",
   "execution_count": 13,
   "id": "6e71cb4f",
   "metadata": {},
   "outputs": [],
   "source": [
    "import pandas as pd;\n",
    "df.to_excel(\"/Users/student/Downloads/Empty\\ datasheet.xlsx\")     #datafrme to excel"
   ]
  },
  {
   "cell_type": "code",
   "execution_count": 17,
   "id": "ec25ea50",
   "metadata": {},
   "outputs": [],
   "source": [
    "import pandas as pd;\n",
    "df=pd.DataFrame([[10,20,30],[40,50,60],[70,80,90]],index=['four','five','six'],columns=['X','Y','Z'])\n",
    "df.to_excel(\"/Users/student/Downloads/Empty\\ datasheet.xlsx\")           #overwriting excel file"
   ]
  },
  {
   "cell_type": "code",
   "execution_count": 9,
   "id": "2bc2a0b4",
   "metadata": {},
   "outputs": [],
   "source": [
    "import pandas as pd;\n",
    "df=pd.DataFrame([[6,7],[1,2]],index=['a','b'],columns=['x','y'])\n",
    "df.to_excel(\"/Users/student/Downloads/empty\\ sheet\\ 1.xlsx\")                   #merging two sheets\n",
    "df.to_excel(\"/Users/student/Downloads/Empty\\ datasheet.xlsx\")\n",
    "x=pd.read_excel(\"/Users/student/Downloads/empty\\ sheet\\ 1.xlsx\")\n",
    "y=pd.read_excel(\"/Users/student/Downloads/Empty\\ datasheet.xlsx\")\n",
    "z=x.merge(y)\n",
    "z.to_excel(\"/Users/student/Downloads/combined\\ sheet1\\ and\\ 2\\ \\(1\\).xlsx\")"
   ]
  },
  {
   "cell_type": "code",
   "execution_count": 10,
   "id": "7e141b2f",
   "metadata": {},
   "outputs": [
    {
     "name": "stdout",
     "output_type": "stream",
     "text": [
      "  Unnamed: 0  x  y\n",
      "1          b  1  2\n",
      "0          a  6  7\n"
     ]
    }
   ],
   "source": [
    "df=z.sort_values([\"x\"])\n",
    "print(df)                                                                              #sorting x\n",
    "df.to_excel(\"/Users/student/Downloads/combined\\ sheet1\\ and\\ 2\\ \\(1\\).xlsx\")"
   ]
  },
  {
   "cell_type": "code",
   "execution_count": 12,
   "id": "89d6284b",
   "metadata": {},
   "outputs": [
    {
     "name": "stdout",
     "output_type": "stream",
     "text": [
      "  Unnamed: 0  x  y\n",
      "1          b  1  2\n",
      "0          a  6  7\n"
     ]
    }
   ],
   "source": [
    "df=z.sort_values([\"y\"])                                                               #sorting y\n",
    "print(df)\n",
    "df.to_excel(\"/Users/student/Downloads/combined\\ sheet1\\ and\\ 2\\ \\(1\\).xlsx\")"
   ]
  },
  {
   "cell_type": "code",
   "execution_count": 14,
   "id": "73840c2c",
   "metadata": {},
   "outputs": [
    {
     "name": "stdout",
     "output_type": "stream",
     "text": [
      "Empty DataFrame\n",
      "Columns: []\n",
      "Index: []\n",
      "[]\n",
      "0\n"
     ]
    }
   ],
   "source": [
    "df=pd.read_excel(\"/Users/student/Downloads/John.xlsx\") \n",
    "print(df)\n",
    "print(list(df))\n",
    "print(format(len(df)))"
   ]
  }
 ],
 "metadata": {
  "kernelspec": {
   "display_name": "Python 3 (ipykernel)",
   "language": "python",
   "name": "python3"
  },
  "language_info": {
   "codemirror_mode": {
    "name": "ipython",
    "version": 3
   },
   "file_extension": ".py",
   "mimetype": "text/x-python",
   "name": "python",
   "nbconvert_exporter": "python",
   "pygments_lexer": "ipython3",
   "version": "3.11.4"
  }
 },
 "nbformat": 4,
 "nbformat_minor": 5
}
