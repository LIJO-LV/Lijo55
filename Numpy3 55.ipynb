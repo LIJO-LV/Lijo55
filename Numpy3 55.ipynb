{
 "cells": [
  {
   "cell_type": "markdown",
   "id": "92a06d87-1f0e-480d-ad2e-3327ac90c9c9",
   "metadata": {},
   "source": [
    "#### INDEX RETRIEVAL"
   ]
  },
  {
   "cell_type": "code",
   "execution_count": 1,
   "id": "442372ce-f9c1-40e7-a823-a5f28e27f275",
   "metadata": {},
   "outputs": [
    {
     "name": "stdout",
     "output_type": "stream",
     "text": [
      "(array([3]),)\n"
     ]
    }
   ],
   "source": [
    "import numpy as np;\n",
    "a=np.array([1,2,3,4,5,6])\n",
    "x=np.where(a==4)\n",
    "print(x)"
   ]
  },
  {
   "cell_type": "code",
   "execution_count": 3,
   "id": "ee57a470-83c2-4c5e-b3e9-d89032dc6f34",
   "metadata": {},
   "outputs": [
    {
     "name": "stdout",
     "output_type": "stream",
     "text": [
      "(array([], dtype=int64),)\n"
     ]
    }
   ],
   "source": [
    "import numpy as np;\n",
    "a=np.array([1,6,2,7,6,4])\n",
    "x=np.where((a/2)==0)\n",
    "print(x)"
   ]
  },
  {
   "cell_type": "code",
   "execution_count": 4,
   "id": "ad193e0c-d04b-47d6-8c74-7c4ec4c2f60e",
   "metadata": {},
   "outputs": [
    {
     "name": "stdout",
     "output_type": "stream",
     "text": [
      "5\n"
     ]
    }
   ],
   "source": [
    "import numpy as np;\n",
    "arr=np.array([0,1,2,3,7,8,9])\n",
    "x=np.searchsorted(arr,8,side='left')\n",
    "print(x)"
   ]
  },
  {
   "cell_type": "markdown",
   "id": "6768788e-28a8-42a5-ae16-5f1b4c1b7902",
   "metadata": {},
   "source": [
    "#### `SORTING"
   ]
  },
  {
   "cell_type": "code",
   "execution_count": 5,
   "id": "c36e9508-5b03-415d-959f-86193591d0df",
   "metadata": {},
   "outputs": [
    {
     "name": "stdout",
     "output_type": "stream",
     "text": [
      "[3 3 4 5 5]\n"
     ]
    }
   ],
   "source": [
    "import numpy as np;\n",
    "a=np.sort([3,5,4,3,5])    #single dimensional\n",
    "x=np.sort(a)\n",
    "print(x)"
   ]
  },
  {
   "cell_type": "code",
   "execution_count": 7,
   "id": "fcb436f4-96d7-4c40-9a12-6036e40871e8",
   "metadata": {},
   "outputs": [
    {
     "name": "stdout",
     "output_type": "stream",
     "text": [
      "[[1 3 4 5]\n",
      " [2 3 4 6]]\n"
     ]
    }
   ],
   "source": [
    "import numpy as np;\n",
    "a=np.array([[1,3,5,4],[4,3,2,6]])   #multi dimensional\n",
    "x=np.sort(a)\n",
    "print(x)"
   ]
  },
  {
   "cell_type": "markdown",
   "id": "02b5cc5d-b242-44bb-8f62-f0296695623f",
   "metadata": {},
   "source": [
    "#### BOOLEAN INDEXING"
   ]
  },
  {
   "cell_type": "code",
   "execution_count": 9,
   "id": "bdae4a57-f1dc-42f1-bd7c-a03c9f244d06",
   "metadata": {},
   "outputs": [
    {
     "name": "stdout",
     "output_type": "stream",
     "text": [
      "[ 78 100]\n"
     ]
    }
   ],
   "source": [
    "import numpy as np;\n",
    "arr=np.array([31,78,69,100])\n",
    "x=[False,True,False,True]\n",
    "newarr=arr[x]\n",
    "print(newarr)"
   ]
  }
 ],
 "metadata": {
  "kernelspec": {
   "display_name": "Python 3 (ipykernel)",
   "language": "python",
   "name": "python3"
  },
  "language_info": {
   "codemirror_mode": {
    "name": "ipython",
    "version": 3
   },
   "file_extension": ".py",
   "mimetype": "text/x-python",
   "name": "python",
   "nbconvert_exporter": "python",
   "pygments_lexer": "ipython3",
   "version": "3.13.0"
  }
 },
 "nbformat": 4,
 "nbformat_minor": 5
}
