{
 "cells": [
  {
   "cell_type": "markdown",
   "id": "d70d7607",
   "metadata": {},
   "source": [
    "### Vector operations\n"
   ]
  },
  {
   "cell_type": "code",
   "execution_count": 2,
   "id": "220e5367",
   "metadata": {},
   "outputs": [
    {
     "name": "stdout",
     "output_type": "stream",
     "text": [
      "[10 20 30 40]\n",
      "[2 3 9 7]\n",
      "[12 23 39 47]\n",
      "[ 8 17 21 33]\n",
      "[ 20  60 270 280]\n",
      "[5.         6.66666667 3.33333333 5.71428571]\n"
     ]
    }
   ],
   "source": [
    "import numpy as np;\n",
    "arr1=np.array([10,20,30,40])\n",
    "arr2=np.array([2,3,9,7])\n",
    "print(arr1)                   #operations\n",
    "print(arr2)\n",
    "print(arr1+arr2)\n",
    "print(arr1-arr2)\n",
    "print(arr1*arr2)\n",
    "print(arr1/arr2)"
   ]
  },
  {
   "cell_type": "code",
   "execution_count": 7,
   "id": "b719fce0",
   "metadata": {},
   "outputs": [
    {
     "name": "stdout",
     "output_type": "stream",
     "text": [
      "37\n"
     ]
    }
   ],
   "source": [
    "import numpy as np;\n",
    "a=np.array([1,2,3,4])      #scalar product\n",
    "b=np.array([3,5,4,3])\n",
    "print(a.dot(b))"
   ]
  },
  {
   "cell_type": "code",
   "execution_count": 10,
   "id": "f2f64ad9",
   "metadata": {},
   "outputs": [
    {
     "name": "stdout",
     "output_type": "stream",
     "text": [
      "[[1 2]\n",
      " [0 0]]\n"
     ]
    }
   ],
   "source": [
    "import numpy as np;\n",
    "a=np.array([[1,2],[18,28]])   #remainder\n",
    "b=np.array([[4,5],[6,7]])\n",
    "print(a%b)"
   ]
  },
  {
   "cell_type": "code",
   "execution_count": 15,
   "id": "226b6c21",
   "metadata": {},
   "outputs": [
    {
     "name": "stdout",
     "output_type": "stream",
     "text": [
      "[3 5 7 9]\n"
     ]
    }
   ],
   "source": [
    "def my_fun(x,y):\n",
    "    \n",
    "    if x>y:\n",
    "    \n",
    "        return x-y\n",
    "    else:\n",
    "        \n",
    "        return x+y\n",
    "a=np.array([1,2,3,4])\n",
    "b=np.array([2,3,4,5])\n",
    "vect_fun=np.vectorize(my_fun)\n",
    "print(vect_fun(a,b))"
   ]
  },
  {
   "cell_type": "code",
   "execution_count": null,
   "id": "2f4bc5e0",
   "metadata": {},
   "outputs": [],
   "source": []
  }
 ],
 "metadata": {
  "kernelspec": {
   "display_name": "Python 3 (ipykernel)",
   "language": "python",
   "name": "python3"
  },
  "language_info": {
   "codemirror_mode": {
    "name": "ipython",
    "version": 3
   },
   "file_extension": ".py",
   "mimetype": "text/x-python",
   "name": "python",
   "nbconvert_exporter": "python",
   "pygments_lexer": "ipython3",
   "version": "3.11.4"
  }
 },
 "nbformat": 4,
 "nbformat_minor": 5
}
