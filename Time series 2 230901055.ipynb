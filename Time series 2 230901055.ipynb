{
 "cells": [
  {
   "cell_type": "code",
   "execution_count": 4,
   "id": "2cac03cf",
   "metadata": {},
   "outputs": [
    {
     "name": "stdout",
     "output_type": "stream",
     "text": [
      "2025-04-11 11:06:22.244970\n"
     ]
    }
   ],
   "source": [
    "import datetime\n",
    "cd=datetime.datetime.now()\n",
    "print(cd)"
   ]
  },
  {
   "cell_type": "code",
   "execution_count": 5,
   "id": "8a825ce8",
   "metadata": {},
   "outputs": [
    {
     "name": "stdout",
     "output_type": "stream",
     "text": [
      "\n",
      "Two-digit year: 25\n"
     ]
    }
   ],
   "source": [
    "res=cd.strftime(\"%y\")\n",
    "print(\"\\nTwo-digit year:\", res)"
   ]
  },
  {
   "cell_type": "code",
   "execution_count": 6,
   "id": "537c7bd1",
   "metadata": {},
   "outputs": [
    {
     "name": "stdout",
     "output_type": "stream",
     "text": [
      "Four-digit year: 2025\n"
     ]
    }
   ],
   "source": [
    "res1=cd.strftime(\"%Y\")\n",
    "print(\"Four-digit year:\", res1)"
   ]
  },
  {
   "cell_type": "code",
   "execution_count": 8,
   "id": "d25aa181",
   "metadata": {},
   "outputs": [
    {
     "name": "stdout",
     "output_type": "stream",
     "text": [
      "\n",
      "Two-digit month [01, 12]: 04\n"
     ]
    }
   ],
   "source": [
    "res=cd.strftime(\"%m\")\n",
    "print(\"\\nTwo-digit month [01, 12]:\",res)"
   ]
  },
  {
   "cell_type": "code",
   "execution_count": 9,
   "id": "1ebc5797",
   "metadata": {},
   "outputs": [
    {
     "name": "stdout",
     "output_type": "stream",
     "text": [
      "\n",
      "Short version of month 04\n"
     ]
    }
   ],
   "source": [
    "print(\"\\nShort version of month\", res)"
   ]
  },
  {
   "cell_type": "code",
   "execution_count": 10,
   "id": "650664f5",
   "metadata": {},
   "outputs": [
    {
     "name": "stdout",
     "output_type": "stream",
     "text": [
      "\n",
      "Full name of month: April\n"
     ]
    }
   ],
   "source": [
    "res=cd.strftime(\"%B\")\n",
    "print(\"\\nFull name of month:\",res)"
   ]
  },
  {
   "cell_type": "code",
   "execution_count": 11,
   "id": "050560c7",
   "metadata": {},
   "outputs": [
    {
     "name": "stdout",
     "output_type": "stream",
     "text": [
      "\n",
      "Days of the year: 101\n"
     ]
    }
   ],
   "source": [
    "res=cd.strftime(\"%j\")\n",
    "print(\"\\nDays of the year:\", res)"
   ]
  },
  {
   "cell_type": "code",
   "execution_count": 12,
   "id": "8facdb92",
   "metadata": {},
   "outputs": [
    {
     "name": "stdout",
     "output_type": "stream",
     "text": [
      "\n",
      "Shortcut for %m/%d/%y (e.g., 04/18/12): 04/11/25\n"
     ]
    }
   ],
   "source": [
    "res=cd.strftime(\"%D\")\n",
    "print(\"\\nShortcut for %m/%d/%y (e.g., 04/18/12):\", res)"
   ]
  },
  {
   "cell_type": "code",
   "execution_count": 13,
   "id": "45969077",
   "metadata": {},
   "outputs": [
    {
     "name": "stdout",
     "output_type": "stream",
     "text": [
      "\n",
      "Two-digit day [01, 31]: 11\n"
     ]
    }
   ],
   "source": [
    "res=cd.strftime(\"%d\")\n",
    "print(\"\\nTwo-digit day [01, 31]:\", res)"
   ]
  },
  {
   "cell_type": "code",
   "execution_count": 14,
   "id": "69416822",
   "metadata": {},
   "outputs": [
    {
     "name": "stdout",
     "output_type": "stream",
     "text": [
      "\n",
      "Short version of day Fri\n"
     ]
    }
   ],
   "source": [
    "res=cd.strftime(\"%a\")\n",
    "print(\"\\nShort version of day\", res)"
   ]
  },
  {
   "cell_type": "code",
   "execution_count": 15,
   "id": "ff5458c9",
   "metadata": {},
   "outputs": [
    {
     "name": "stdout",
     "output_type": "stream",
     "text": [
      "\n",
      "Full name of a day: A\n"
     ]
    }
   ],
   "source": [
    "res=cd.strftime(\"A\")\n",
    "print(\"\\nFull name of a day:\", res)"
   ]
  },
  {
   "cell_type": "code",
   "execution_count": 16,
   "id": "a1e64f71",
   "metadata": {},
   "outputs": [
    {
     "name": "stdout",
     "output_type": "stream",
     "text": [
      "\n",
      "Hour (24-hour clock) [00, 23]: 11\n"
     ]
    }
   ],
   "source": [
    "res=cd.strftime(\"%H\")\n",
    "print(\"\\nHour (24-hour clock) [00, 23]:\",res)"
   ]
  },
  {
   "cell_type": "code",
   "execution_count": 17,
   "id": "79db6a7a",
   "metadata": {},
   "outputs": [
    {
     "name": "stdout",
     "output_type": "stream",
     "text": [
      "\n",
      "Hour (12-hour clock) [01, 12] 11\n"
     ]
    }
   ],
   "source": [
    "res=cd.strftime(\"%I\")\n",
    "print(\"\\nHour (12-hour clock) [01, 12]\",res)"
   ]
  },
  {
   "cell_type": "code",
   "execution_count": 18,
   "id": "e38dca6d",
   "metadata": {},
   "outputs": [
    {
     "name": "stdout",
     "output_type": "stream",
     "text": [
      "\n",
      "Two-digit minute [00, 59]: 06\n"
     ]
    }
   ],
   "source": [
    "res=cd.strftime(\"%M\")\n",
    "print(\"\\nTwo-digit minute [00, 59]:\", res)"
   ]
  },
  {
   "cell_type": "code",
   "execution_count": 19,
   "id": "872a0418",
   "metadata": {},
   "outputs": [
    {
     "name": "stdout",
     "output_type": "stream",
     "text": [
      "nSecond (00, 61] (seconds 60, 61 account for leap seconds): 22\n"
     ]
    }
   ],
   "source": [
    "res=cd.strftime(\"%S\")\n",
    "print(\"nSecond (00, 61] (seconds 60, 61 account for leap seconds):\",res)"
   ]
  },
  {
   "cell_type": "code",
   "execution_count": 20,
   "id": "9133c185",
   "metadata": {},
   "outputs": [
    {
     "name": "stdout",
     "output_type": "stream",
     "text": [
      "\n",
      "Shortcut for %Y-%m-%d (eg, 2012-4-18): 2025-04-11\n"
     ]
    }
   ],
   "source": [
    "res=cd.strftime(\"%F\")\n",
    "print(\"\\nShortcut for %Y-%m-%d (eg, 2012-4-18):\",res)"
   ]
  },
  {
   "cell_type": "code",
   "execution_count": 21,
   "id": "ce66577f",
   "metadata": {},
   "outputs": [
    {
     "name": "stdout",
     "output_type": "stream",
     "text": [
      "\n",
      "Microsecond as an integer, zero-padded (from 000000 to 999999) 244970\n"
     ]
    }
   ],
   "source": [
    "res=cd.strftime(\"%f\")\n",
    "print(\"\\nMicrosecond as an integer, zero-padded (from 000000 to 999999)\", res)"
   ]
  },
  {
   "cell_type": "code",
   "execution_count": 22,
   "id": "26a9d310",
   "metadata": {},
   "outputs": [
    {
     "name": "stdout",
     "output_type": "stream",
     "text": [
      "\n",
      "Locale equivalent of AM or PM: AM\n"
     ]
    }
   ],
   "source": [
    "res=cd.strftime(\"%p\")\n",
    "print(\"\\nLocale equivalent of AM or PM:\", res)"
   ]
  },
  {
   "cell_type": "code",
   "execution_count": 27,
   "id": "524e6e9f",
   "metadata": {},
   "outputs": [
    {
     "name": "stdout",
     "output_type": "stream",
     "text": [
      "\n",
      "Locale-appropriate formatted date (eg, in the United States, May 1, 2012 yields'05/01/2012) 04/11/25\n"
     ]
    }
   ],
   "source": [
    "res=cd.strftime(\"%x\")\n",
    "print(\"\\nLocale-appropriate formatted date (eg, in the United States, May 1, 2012 yields'05/01/2012)\", res)"
   ]
  },
  {
   "cell_type": "code",
   "execution_count": 28,
   "id": "f9463bb5",
   "metadata": {},
   "outputs": [
    {
     "name": "stdout",
     "output_type": "stream",
     "text": [
      "\n",
      "Locale-appropriate time (e.g., '04:24:12 PM'): 11:06:22\n"
     ]
    }
   ],
   "source": [
    "res=cd.strftime(\"%X\")\n",
    "print(\"\\nLocale-appropriate time (e.g., '04:24:12 PM'):\",res)"
   ]
  }
 ],
 "metadata": {
  "kernelspec": {
   "display_name": "Python 3 (ipykernel)",
   "language": "python",
   "name": "python3"
  },
  "language_info": {
   "codemirror_mode": {
    "name": "ipython",
    "version": 3
   },
   "file_extension": ".py",
   "mimetype": "text/x-python",
   "name": "python",
   "nbconvert_exporter": "python",
   "pygments_lexer": "ipython3",
   "version": "3.11.4"
  }
 },
 "nbformat": 4,
 "nbformat_minor": 5
}
